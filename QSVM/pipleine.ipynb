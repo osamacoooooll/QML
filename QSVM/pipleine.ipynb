{
 "cells": [
  {
   "cell_type": "code",
   "execution_count": 2,
   "metadata": {},
   "outputs": [],
   "source": [
    "import numpy as np \n",
    "import pandas as pd \n",
    "import matplotlib.pyplot as plt \n",
    "import seaborn as sns \n",
    "from dwave.system import LeapHybridSampler\n",
    "from itertools import product\n",
    "import matplotlib.pyplot as plt\n",
    "\n",
    "import DataLoader\n",
    "import utils\n",
    "import argparse\n",
    "# \"C:\\Users\\Naosat\\Downloads\\Telegram Desktop\\breast-cancer quantum_train.csv\""
   ]
  },
  {
   "cell_type": "code",
   "execution_count": 5,
   "metadata": {},
   "outputs": [
    {
     "data": {
      "text/html": [
       "<div>\n",
       "<style scoped>\n",
       "    .dataframe tbody tr th:only-of-type {\n",
       "        vertical-align: middle;\n",
       "    }\n",
       "\n",
       "    .dataframe tbody tr th {\n",
       "        vertical-align: top;\n",
       "    }\n",
       "\n",
       "    .dataframe thead th {\n",
       "        text-align: right;\n",
       "    }\n",
       "</style>\n",
       "<table border=\"1\" class=\"dataframe\">\n",
       "  <thead>\n",
       "    <tr style=\"text-align: right;\">\n",
       "      <th></th>\n",
       "      <th>0</th>\n",
       "      <th>1</th>\n",
       "      <th>2</th>\n",
       "      <th>3</th>\n",
       "      <th>4</th>\n",
       "      <th>5</th>\n",
       "      <th>6</th>\n",
       "      <th>target</th>\n",
       "    </tr>\n",
       "  </thead>\n",
       "  <tbody>\n",
       "    <tr>\n",
       "      <th>0</th>\n",
       "      <td>-1.447987</td>\n",
       "      <td>-0.456023</td>\n",
       "      <td>-1.366651</td>\n",
       "      <td>-0.280696</td>\n",
       "      <td>0.693984</td>\n",
       "      <td>2.147190</td>\n",
       "      <td>1.859432</td>\n",
       "      <td>0</td>\n",
       "    </tr>\n",
       "    <tr>\n",
       "      <th>1</th>\n",
       "      <td>1.977508</td>\n",
       "      <td>1.694187</td>\n",
       "      <td>2.089619</td>\n",
       "      <td>0.810729</td>\n",
       "      <td>0.733436</td>\n",
       "      <td>1.936879</td>\n",
       "      <td>2.463465</td>\n",
       "      <td>1</td>\n",
       "    </tr>\n",
       "    <tr>\n",
       "      <th>2</th>\n",
       "      <td>-1.407089</td>\n",
       "      <td>-1.263516</td>\n",
       "      <td>-1.349763</td>\n",
       "      <td>0.016703</td>\n",
       "      <td>-1.490797</td>\n",
       "      <td>0.616770</td>\n",
       "      <td>0.052877</td>\n",
       "      <td>0</td>\n",
       "    </tr>\n",
       "    <tr>\n",
       "      <th>3</th>\n",
       "      <td>-0.987600</td>\n",
       "      <td>1.380033</td>\n",
       "      <td>-0.986877</td>\n",
       "      <td>-0.561131</td>\n",
       "      <td>0.768505</td>\n",
       "      <td>0.822228</td>\n",
       "      <td>-0.137199</td>\n",
       "      <td>0</td>\n",
       "    </tr>\n",
       "    <tr>\n",
       "      <th>4</th>\n",
       "      <td>-1.123927</td>\n",
       "      <td>-1.026155</td>\n",
       "      <td>-1.129395</td>\n",
       "      <td>0.399279</td>\n",
       "      <td>-0.213419</td>\n",
       "      <td>1.061659</td>\n",
       "      <td>-0.207578</td>\n",
       "      <td>0</td>\n",
       "    </tr>\n",
       "  </tbody>\n",
       "</table>\n",
       "</div>"
      ],
      "text/plain": [
       "          0         1         2         3         4         5         6  \\\n",
       "0 -1.447987 -0.456023 -1.366651 -0.280696  0.693984  2.147190  1.859432   \n",
       "1  1.977508  1.694187  2.089619  0.810729  0.733436  1.936879  2.463465   \n",
       "2 -1.407089 -1.263516 -1.349763  0.016703 -1.490797  0.616770  0.052877   \n",
       "3 -0.987600  1.380033 -0.986877 -0.561131  0.768505  0.822228 -0.137199   \n",
       "4 -1.123927 -1.026155 -1.129395  0.399279 -0.213419  1.061659 -0.207578   \n",
       "\n",
       "   target  \n",
       "0       0  \n",
       "1       1  \n",
       "2       0  \n",
       "3       0  \n",
       "4       0  "
      ]
     },
     "execution_count": 5,
     "metadata": {},
     "output_type": "execute_result"
    }
   ],
   "source": [
    "df = pd.read_csv(r\"C:\\Users\\Naosat\\Downloads\\Telegram Desktop\\breast-cancer quantum_train.csv\")\n",
    "\n",
    "data=df\n",
    "df.head()"
   ]
  },
  {
   "cell_type": "code",
   "execution_count": 4,
   "metadata": {},
   "outputs": [
    {
     "name": "stdout",
     "output_type": "stream",
     "text": [
      "Collecting seaborn\n",
      "  Using cached seaborn-0.13.2-py3-none-any.whl.metadata (5.4 kB)\n",
      "Requirement already satisfied: numpy!=1.24.0,>=1.20 in e:\\qsvm\\qsvm\\qsvm\\.venv\\lib\\site-packages (from seaborn) (1.26.4)\n",
      "Requirement already satisfied: pandas>=1.2 in e:\\qsvm\\qsvm\\qsvm\\.venv\\lib\\site-packages (from seaborn) (2.2.1)\n",
      "Requirement already satisfied: matplotlib!=3.6.1,>=3.4 in e:\\qsvm\\qsvm\\qsvm\\.venv\\lib\\site-packages (from seaborn) (3.8.3)\n",
      "Requirement already satisfied: contourpy>=1.0.1 in e:\\qsvm\\qsvm\\qsvm\\.venv\\lib\\site-packages (from matplotlib!=3.6.1,>=3.4->seaborn) (1.2.1)\n",
      "Requirement already satisfied: cycler>=0.10 in e:\\qsvm\\qsvm\\qsvm\\.venv\\lib\\site-packages (from matplotlib!=3.6.1,>=3.4->seaborn) (0.12.1)\n",
      "Requirement already satisfied: fonttools>=4.22.0 in e:\\qsvm\\qsvm\\qsvm\\.venv\\lib\\site-packages (from matplotlib!=3.6.1,>=3.4->seaborn) (4.53.1)\n",
      "Requirement already satisfied: kiwisolver>=1.3.1 in e:\\qsvm\\qsvm\\qsvm\\.venv\\lib\\site-packages (from matplotlib!=3.6.1,>=3.4->seaborn) (1.4.5)\n",
      "Requirement already satisfied: packaging>=20.0 in e:\\qsvm\\qsvm\\qsvm\\.venv\\lib\\site-packages (from matplotlib!=3.6.1,>=3.4->seaborn) (24.1)\n",
      "Requirement already satisfied: pillow>=8 in e:\\qsvm\\qsvm\\qsvm\\.venv\\lib\\site-packages (from matplotlib!=3.6.1,>=3.4->seaborn) (10.4.0)\n",
      "Requirement already satisfied: pyparsing>=2.3.1 in e:\\qsvm\\qsvm\\qsvm\\.venv\\lib\\site-packages (from matplotlib!=3.6.1,>=3.4->seaborn) (3.1.2)\n",
      "Requirement already satisfied: python-dateutil>=2.7 in e:\\qsvm\\qsvm\\qsvm\\.venv\\lib\\site-packages (from matplotlib!=3.6.1,>=3.4->seaborn) (2.9.0.post0)\n",
      "Requirement already satisfied: pytz>=2020.1 in e:\\qsvm\\qsvm\\qsvm\\.venv\\lib\\site-packages (from pandas>=1.2->seaborn) (2024.1)\n",
      "Requirement already satisfied: tzdata>=2022.7 in e:\\qsvm\\qsvm\\qsvm\\.venv\\lib\\site-packages (from pandas>=1.2->seaborn) (2024.1)\n",
      "Requirement already satisfied: six>=1.5 in e:\\qsvm\\qsvm\\qsvm\\.venv\\lib\\site-packages (from python-dateutil>=2.7->matplotlib!=3.6.1,>=3.4->seaborn) (1.16.0)\n",
      "Using cached seaborn-0.13.2-py3-none-any.whl (294 kB)\n",
      "Installing collected packages: seaborn\n",
      "Successfully installed seaborn-0.13.2\n"
     ]
    },
    {
     "name": "stderr",
     "output_type": "stream",
     "text": [
      "\n",
      "[notice] A new release of pip is available: 24.1.2 -> 24.2\n",
      "[notice] To update, run: python.exe -m pip install --upgrade pip\n"
     ]
    }
   ],
   "source": [
    "!pip install seaborn"
   ]
  },
  {
   "cell_type": "code",
   "execution_count": 6,
   "metadata": {},
   "outputs": [
    {
     "name": "stdout",
     "output_type": "stream",
     "text": [
      "Original Data:\n",
      "          0         1         2         3         4         5         6  \\\n",
      "0 -1.447987 -0.456023 -1.366651 -0.280696  0.693984  2.147190  1.859432   \n",
      "1  1.977508  1.694187  2.089619  0.810729  0.733436  1.936879  2.463465   \n",
      "2 -1.407089 -1.263516 -1.349763  0.016703 -1.490797  0.616770  0.052877   \n",
      "3 -0.987600  1.380033 -0.986877 -0.561131  0.768505  0.822228 -0.137199   \n",
      "4 -1.123927 -1.026155 -1.129395  0.399279 -0.213419  1.061659 -0.207578   \n",
      "\n",
      "   target  \n",
      "0       0  \n",
      "1       1  \n",
      "2       0  \n",
      "3       0  \n",
      "4       0  \n",
      "\n",
      "Class Proportions in Original Data:\n",
      "target\n",
      "0    0.628571\n",
      "1    0.371429\n",
      "Name: proportion, dtype: float64\n",
      "\n",
      "Sample Sizes per Class in Desired Sample:\n",
      "target\n",
      "0    62\n",
      "1    37\n",
      "Name: proportion, dtype: int32\n"
     ]
    }
   ],
   "source": [
    "import pandas as pd\n",
    "from sklearn.model_selection import train_test_split\n",
    "\n",
    "# Load data from CSV file\n",
    "# file_path = 'your_data.csv'  # Replace with your actual file path\n",
    "# data = pd.read_csv(file_path)\n",
    "\n",
    "# Display the first few rows of the dataset\n",
    "print(\"Original Data:\")\n",
    "print(data.head())\n",
    "\n",
    "# Define the key variable (strata) and the desired sample size\n",
    "key_variable = 'target'  # Replace with your actual key variable\n",
    "desired_sample_size = 100  # Adjust based on your requirements\n",
    "\n",
    "# Calculate the proportion for each class in the original dataset\n",
    "class_counts = data[key_variable].value_counts(normalize=True)\n",
    "print(\"\\nClass Proportions in Original Data:\")\n",
    "print(class_counts)\n",
    "\n",
    "# Calculate the number of samples needed for each class in the desired sample\n",
    "class_sample_sizes = (class_counts * desired_sample_size).astype(int)\n",
    "print(\"\\nSample Sizes per Class in Desired Sample:\")\n",
    "print(class_sample_sizes)\n",
    "\n",
    "# Create an empty DataFrame to store the stratified sample\n",
    "stratified_sample = pd.DataFrame()\n",
    "\n",
    "# Perform stratified sampling\n",
    "for class_label, sample_size in class_sample_sizes.items():\n",
    "    class_data = data[data[key_variable] == class_label]\n",
    "    class_sample = class_data.sample(n=sample_size, random_state=42)\n",
    "    stratified_sample = pd.concat([stratified_sample, class_sample], axis=0)\n",
    "\n",
    "# Shuffle the final stratified sample to mix the rows\n",
    "stratified_sample = stratified_sample.sample(frac=1, random_state=42).reset_index(drop=True)"
   ]
  },
  {
   "cell_type": "code",
   "execution_count": 8,
   "metadata": {},
   "outputs": [],
   "source": [
    "# X = df.drop(columns=['survived']).values\n",
    "from sklearn.preprocessing import StandardScaler\n",
    "X=stratified_sample.drop(columns=[key_variable]).values\n",
    "y = stratified_sample[key_variable].values\n",
    "\n",
    "X_std = StandardScaler().fit_transform(X)"
   ]
  },
  {
   "cell_type": "code",
   "execution_count": 11,
   "metadata": {},
   "outputs": [],
   "source": [
    "X=X_std"
   ]
  },
  {
   "cell_type": "code",
   "execution_count": 15,
   "metadata": {},
   "outputs": [],
   "source": [
    "df=stratified_sample\n",
    "df.isnull().sum()\n",
    "df1=df"
   ]
  },
  {
   "cell_type": "code",
   "execution_count": 16,
   "metadata": {},
   "outputs": [
    {
     "data": {
      "text/plain": [
       "<Axes: title={'center': 'Heatmap showing Correlation between all the features'}>"
      ]
     },
     "execution_count": 16,
     "metadata": {},
     "output_type": "execute_result"
    },
    {
     "data": {
      "image/png": "[encoded data removed]",
      "text/plain": [
       "<Figure size 1500x800 with 2 Axes>"
      ]
     },
     "metadata": {},
     "output_type": "display_data"
    }
   ],
   "source": [
    "plt.figure(figsize=(15,8))\n",
    "plt.title(\"Heatmap showing Correlation between all the features\", fontsize=20)\n",
    "sns.heatmap(df1.corr(),annot = True, cmap='mako')"
   ]
  },
  {
   "cell_type": "code",
   "execution_count": 18,
   "metadata": {},
   "outputs": [
    {
     "data": {
      "text/plain": [
       "(62, 8)"
      ]
     },
     "execution_count": 18,
     "metadata": {},
     "output_type": "execute_result"
    }
   ],
   "source": [
    "zero_class = df1[df1[key_variable]==0]\n",
    "zero_class.shape"
   ]
  },
  {
   "cell_type": "code",
   "execution_count": 20,
   "metadata": {},
   "outputs": [
    {
     "data": {
      "text/plain": [
       "(37, 8)"
      ]
     },
     "execution_count": 20,
     "metadata": {},
     "output_type": "execute_result"
    }
   ],
   "source": [
    "one_class = df1[df1[key_variable]==1]\n",
    "one_class.shape"
   ]
  },
  {
   "cell_type": "code",
   "execution_count": 23,
   "metadata": {},
   "outputs": [
    {
     "data": {
      "text/html": [
       "<div>\n",
       "<style scoped>\n",
       "    .dataframe tbody tr th:only-of-type {\n",
       "        vertical-align: middle;\n",
       "    }\n",
       "\n",
       "    .dataframe tbody tr th {\n",
       "        vertical-align: top;\n",
       "    }\n",
       "\n",
       "    .dataframe thead th {\n",
       "        text-align: right;\n",
       "    }\n",
       "</style>\n",
       "<table border=\"1\" class=\"dataframe\">\n",
       "  <thead>\n",
       "    <tr style=\"text-align: right;\">\n",
       "      <th></th>\n",
       "      <th>0</th>\n",
       "      <th>1</th>\n",
       "      <th>2</th>\n",
       "      <th>3</th>\n",
       "      <th>4</th>\n",
       "      <th>5</th>\n",
       "      <th>6</th>\n",
       "    </tr>\n",
       "  </thead>\n",
       "  <tbody>\n",
       "    <tr>\n",
       "      <th>0</th>\n",
       "      <td>1.322364</td>\n",
       "      <td>0.633618</td>\n",
       "      <td>1.268641</td>\n",
       "      <td>1.264131</td>\n",
       "      <td>0.652263</td>\n",
       "      <td>1.086123</td>\n",
       "      <td>0.827773</td>\n",
       "    </tr>\n",
       "    <tr>\n",
       "      <th>1</th>\n",
       "      <td>-1.121508</td>\n",
       "      <td>-0.821880</td>\n",
       "      <td>-1.098266</td>\n",
       "      <td>-0.516910</td>\n",
       "      <td>0.306762</td>\n",
       "      <td>-0.758643</td>\n",
       "      <td>0.411475</td>\n",
       "    </tr>\n",
       "    <tr>\n",
       "      <th>2</th>\n",
       "      <td>1.508606</td>\n",
       "      <td>0.102045</td>\n",
       "      <td>1.410893</td>\n",
       "      <td>1.053983</td>\n",
       "      <td>0.647889</td>\n",
       "      <td>0.615920</td>\n",
       "      <td>0.248357</td>\n",
       "    </tr>\n",
       "    <tr>\n",
       "      <th>3</th>\n",
       "      <td>-0.063491</td>\n",
       "      <td>-0.062490</td>\n",
       "      <td>-0.081563</td>\n",
       "      <td>-0.202368</td>\n",
       "      <td>0.333003</td>\n",
       "      <td>-0.214774</td>\n",
       "      <td>0.299371</td>\n",
       "    </tr>\n",
       "    <tr>\n",
       "      <th>4</th>\n",
       "      <td>-0.783808</td>\n",
       "      <td>-0.024520</td>\n",
       "      <td>-0.691269</td>\n",
       "      <td>-0.691201</td>\n",
       "      <td>3.652430</td>\n",
       "      <td>1.830613</td>\n",
       "      <td>3.447738</td>\n",
       "    </tr>\n",
       "  </tbody>\n",
       "</table>\n",
       "</div>"
      ],
      "text/plain": [
       "          0         1         2         3         4         5         6\n",
       "0  1.322364  0.633618  1.268641  1.264131  0.652263  1.086123  0.827773\n",
       "1 -1.121508 -0.821880 -1.098266 -0.516910  0.306762 -0.758643  0.411475\n",
       "2  1.508606  0.102045  1.410893  1.053983  0.647889  0.615920  0.248357\n",
       "3 -0.063491 -0.062490 -0.081563 -0.202368  0.333003 -0.214774  0.299371\n",
       "4 -0.783808 -0.024520 -0.691269 -0.691201  3.652430  1.830613  3.447738"
      ]
     },
     "execution_count": 23,
     "metadata": {},
     "output_type": "execute_result"
    }
   ],
   "source": [
    "# from sklearn.preprocessing import StandardScaler\n",
    "scaler = StandardScaler()\n",
    "scaled = scaler.fit(df1.drop(key_variable,axis=1)).transform(df1.drop(key_variable,axis=1))\n",
    "df_scaled = pd.DataFrame(scaled, columns=df1.columns[:-1])\n",
    "df_scaled.head()"
   ]
  },
  {
   "cell_type": "code",
   "execution_count": 25,
   "metadata": {},
   "outputs": [],
   "source": [
    "x = X\n",
    "y = y"
   ]
  },
  {
   "cell_type": "code",
   "execution_count": 26,
   "metadata": {},
   "outputs": [],
   "source": [
    "from sklearn.model_selection import train_test_split\n",
    "x_train, x_test, y_train, y_test = train_test_split(x, y, test_size=0.2, random_state=0)"
   ]
  },
  {
   "cell_type": "code",
   "execution_count": 27,
   "metadata": {},
   "outputs": [
    {
     "ename": "NameError",
     "evalue": "name 'SVC' is not defined",
     "output_type": "error",
     "traceback": [
      "\u001b[1;31m---------------------------------------------------------------------------\u001b[0m",
      "\u001b[1;31mNameError\u001b[0m                                 Traceback (most recent call last)",
      "Cell \u001b[1;32mIn[27], line 1\u001b[0m\n\u001b[1;32m----> 1\u001b[0m linear_classifier\u001b[38;5;241m=\u001b[39m\u001b[43mSVC\u001b[49m(kernel\u001b[38;5;241m=\u001b[39m\u001b[38;5;124m'\u001b[39m\u001b[38;5;124mlinear\u001b[39m\u001b[38;5;124m'\u001b[39m)\u001b[38;5;241m.\u001b[39mfit(x_train,y_train)\n\u001b[0;32m      2\u001b[0m y_pred \u001b[38;5;241m=\u001b[39m linear_classifier\u001b[38;5;241m.\u001b[39mpredict(x_test)\n\u001b[0;32m      3\u001b[0m \u001b[38;5;28mprint\u001b[39m(\u001b[38;5;124m'\u001b[39m\u001b[38;5;124mModel accuracy with linear kernel : \u001b[39m\u001b[38;5;132;01m{0:0.3f}\u001b[39;00m\u001b[38;5;124m'\u001b[39m\u001b[38;5;241m.\u001b[39m \u001b[38;5;28mformat\u001b[39m(accuracy_score(y_test, y_pred)))\n",
      "\u001b[1;31mNameError\u001b[0m: name 'SVC' is not defined"
     ]
    }
   ],
   "source": [
    "linear_classifier=SVC(kernel='linear').fit(x_train,y_train)\n",
    "y_pred = linear_classifier.predict(x_test)\n",
    "print('Model accuracy with linear kernel : {0:0.3f}'. format(accuracy_score(y_test, y_pred)))"
   ]
  },
  {
   "cell_type": "code",
   "execution_count": null,
   "metadata": {},
   "outputs": [],
   "source": [
    "cm = confusion_matrix(y_test, y_pred)\n",
    "cm_matrix = pd.DataFrame(data=cm, columns=['Actual Positive:1', 'Actual Negative:0'], \n",
    "                                 index=['Predict Positive:1', 'Predict Negative:0'])\n",
    "\n",
    "sns.heatmap(cm_matrix, annot=True, fmt='d', cmap='mako')"
   ]
  },
  {
   "cell_type": "code",
   "execution_count": null,
   "metadata": {},
   "outputs": [],
   "source": [
    "print(classification_report(y_test,y_pred))"
   ]
  },
  {
   "cell_type": "code",
   "execution_count": null,
   "metadata": {},
   "outputs": [],
   "source": [
    "# Apply SVM model using Polynomial Kernel function\n",
    "Poly_svc=SVC(kernel='poly', C=1).fit(x_train,y_train)\n",
    "y_pred = Poly_svc.predict(x_test)\n",
    "print('Model accuracy with rbf kernel : {0:0.3f}'. format(accuracy_score(y_test, y_pred)))"
   ]
  },
  {
   "cell_type": "code",
   "execution_count": null,
   "metadata": {},
   "outputs": [],
   "source": [
    "cm = confusion_matrix(y_test, y_pred)\n",
    "cm_matrix = pd.DataFrame(data=cm, columns=['Actual Positive:1', 'Actual Negative:0'], \n",
    "                                 index=['Predict Positive:1', 'Predict Negative:0'])\n",
    "\n",
    "sns.heatmap(cm_matrix, annot=True, fmt='d', cmap='mako')"
   ]
  },
  {
   "cell_type": "code",
   "execution_count": null,
   "metadata": {},
   "outputs": [],
   "source": [
    "print(classification_report(y_test,y_pred))"
   ]
  },
  {
   "cell_type": "code",
   "execution_count": null,
   "metadata": {},
   "outputs": [],
   "source": []
  }
 ],
 "metadata": {
  "kernelspec": {
   "display_name": "mypyt",
   "language": "python",
   "name": "python3"
  },
  "language_info": {
   "codemirror_mode": {
    "name": "ipython",
    "version": 3
   },
   "file_extension": ".py",
   "mimetype": "text/x-python",
   "name": "python",
   "nbconvert_exporter": "python",
   "pygments_lexer": "ipython3",
   "version": "3.11.4"
  }
 },
 "nbformat": 4,
 "nbformat_minor": 2
}
